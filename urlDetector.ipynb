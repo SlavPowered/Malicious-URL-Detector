{
  "cells": [
    {
      "cell_type": "code",
      "execution_count": null,
      "metadata": {
        "id": "bbHJiUdZ9s0B"
      },
      "outputs": [
        {
          "ename": "",
          "evalue": "",
          "output_type": "error",
          "traceback": [
            "\u001b[1;31mRunning cells with 'Python 3.10.0' requires the ipykernel package.\n",
            "\u001b[1;31mRun the following command to install 'ipykernel' into the Python environment. \n",
            "\u001b[1;31mCommand: 'c:/Users/admin/AppData/Local/Programs/Python/Python310/python.exe -m pip install ipykernel -U --user --force-reinstall'"
          ]
        }
      ],
      "source": [
        "import pandas as pd\n",
        "from sklearn.neighbors import KNeighborsClassifier\n",
        "from sklearn.model_selection import train_test_split"
      ]
    },
    {
      "cell_type": "code",
      "execution_count": 2,
      "metadata": {
        "colab": {
          "base_uri": "https://localhost:8080/"
        },
        "id": "WJAF1z3cSAGr",
        "outputId": "31582a9d-97e1-4ad1-9688-0ec737f4438f"
      },
      "outputs": [
        {
          "name": "stdout",
          "output_type": "stream",
          "text": [
            "        Unnamed: 0  url_length  domain_length  has_https  has_ipv4  \\\n",
            "0                0        22.0           14.0        1.0       0.0   \n",
            "1                1        23.0           15.0        1.0       0.0   \n",
            "2                2        24.0           16.0        1.0       0.0   \n",
            "3                3        21.0           13.0        1.0       0.0   \n",
            "4                4        25.0           17.0        1.0       0.0   \n",
            "...            ...         ...            ...        ...       ...   \n",
            "450171      450171        43.0           11.0        0.0       0.0   \n",
            "450172      450172       159.0           13.0        0.0       0.0   \n",
            "450173      450173       147.0           13.0        0.0       0.0   \n",
            "450174      450174        22.0           14.0        0.0       0.0   \n",
            "450175      450175       143.0           18.0        0.0       0.0   \n",
            "\n",
            "        parameter_count  letter_count  nb_count  non_alpha_count  ques  \\\n",
            "0                   1.0          17.0       0.0              5.0   0.0   \n",
            "1                   1.0          18.0       0.0              5.0   0.0   \n",
            "2                   1.0          19.0       0.0              5.0   0.0   \n",
            "3                   1.0          16.0       0.0              5.0   0.0   \n",
            "4                   1.0          20.0       0.0              5.0   0.0   \n",
            "...                 ...           ...       ...              ...   ...   \n",
            "450171              1.0          34.0       0.0              9.0   0.0   \n",
            "450172              1.0         118.0      21.0             20.0   0.0   \n",
            "450173              1.0         109.0      20.0             18.0   0.0   \n",
            "450174              1.0          17.0       0.0              5.0   0.0   \n",
            "450175              1.0         118.0       9.0             16.0   0.0   \n",
            "\n",
            "        slashes  dashes  underscores  dots  has_php  has_html  result  \n",
            "0           2.0     0.0          0.0   2.0      0.0       0.0       0  \n",
            "1           2.0     0.0          0.0   2.0      0.0       0.0       0  \n",
            "2           2.0     0.0          0.0   2.0      0.0       0.0       0  \n",
            "3           2.0     0.0          0.0   2.0      0.0       0.0       0  \n",
            "4           2.0     0.0          0.0   2.0      0.0       0.0       0  \n",
            "...         ...     ...          ...   ...      ...       ...     ...  \n",
            "450171      5.0     1.0          0.0   2.0      1.0       0.0       1  \n",
            "450172     14.0     0.0          2.0   2.0      0.0       1.0       1  \n",
            "450173     14.0     0.0          1.0   1.0      0.0       0.0       1  \n",
            "450174      3.0     0.0          0.0   1.0      0.0       0.0       1  \n",
            "450175      9.0     1.0          1.0   4.0      0.0       0.0       1  \n",
            "\n",
            "[450176 rows x 17 columns]\n"
          ]
        }
      ],
      "source": [
        "data = pd.read_csv(\"sample_data/prepareddata2.csv\")\n",
        "\n",
        "print(data)"
      ]
    },
    {
      "cell_type": "code",
      "execution_count": 3,
      "metadata": {
        "colab": {
          "base_uri": "https://localhost:8080/"
        },
        "id": "3OJAucFAYfJy",
        "outputId": "89748393-06eb-49e5-803c-0126e06971bc"
      },
      "outputs": [
        {
          "name": "stdout",
          "output_type": "stream",
          "text": [
            "Unnamed: 0         0\n",
            "url_length         0\n",
            "domain_length      0\n",
            "has_https          0\n",
            "has_ipv4           0\n",
            "parameter_count    0\n",
            "letter_count       0\n",
            "nb_count           0\n",
            "non_alpha_count    0\n",
            "ques               0\n",
            "slashes            0\n",
            "dashes             0\n",
            "underscores        0\n",
            "dots               0\n",
            "has_php            0\n",
            "has_html           0\n",
            "result             0\n",
            "dtype: int64\n"
          ]
        }
      ],
      "source": [
        "data = data.dropna(subset=[\"has_ipv4\"])\n",
        "print(data.isnull().sum())"
      ]
    },
    {
      "cell_type": "code",
      "execution_count": 4,
      "metadata": {
        "id": "LB9kxfA9Wh4G"
      },
      "outputs": [],
      "source": [
        "x = data[[\"url_length\", \"domain_length\", \"has_https\", \"parameter_count\", \"letter_count\",\n",
        "         \"nb_count\", \"non_alpha_count\", \"ques\", \"slashes\", \"dashes\", \"underscores\", \"dots\",\n",
        "         \"has_php\", \"has_html\"]]\n",
        "\n"
      ]
    },
    {
      "cell_type": "markdown",
      "metadata": {
        "id": "v4669k23ZlcZ"
      },
      "source": [
        "**Part 1: K-Nearest Neighbor Model**"
      ]
    },
    {
      "cell_type": "code",
      "execution_count": 5,
      "metadata": {
        "colab": {
          "base_uri": "https://localhost:8080/",
          "height": 74
        },
        "id": "AzbziyD9Ul7P",
        "outputId": "54420dbf-f28f-46df-bc74-b81b5314e838"
      },
      "outputs": [
        {
          "data": {
            "text/html": [
              "<style>#sk-container-id-1 {color: black;background-color: white;}#sk-container-id-1 pre{padding: 0;}#sk-container-id-1 div.sk-toggleable {background-color: white;}#sk-container-id-1 label.sk-toggleable__label {cursor: pointer;display: block;width: 100%;margin-bottom: 0;padding: 0.3em;box-sizing: border-box;text-align: center;}#sk-container-id-1 label.sk-toggleable__label-arrow:before {content: \"▸\";float: left;margin-right: 0.25em;color: #696969;}#sk-container-id-1 label.sk-toggleable__label-arrow:hover:before {color: black;}#sk-container-id-1 div.sk-estimator:hover label.sk-toggleable__label-arrow:before {color: black;}#sk-container-id-1 div.sk-toggleable__content {max-height: 0;max-width: 0;overflow: hidden;text-align: left;background-color: #f0f8ff;}#sk-container-id-1 div.sk-toggleable__content pre {margin: 0.2em;color: black;border-radius: 0.25em;background-color: #f0f8ff;}#sk-container-id-1 input.sk-toggleable__control:checked~div.sk-toggleable__content {max-height: 200px;max-width: 100%;overflow: auto;}#sk-container-id-1 input.sk-toggleable__control:checked~label.sk-toggleable__label-arrow:before {content: \"▾\";}#sk-container-id-1 div.sk-estimator input.sk-toggleable__control:checked~label.sk-toggleable__label {background-color: #d4ebff;}#sk-container-id-1 div.sk-label input.sk-toggleable__control:checked~label.sk-toggleable__label {background-color: #d4ebff;}#sk-container-id-1 input.sk-hidden--visually {border: 0;clip: rect(1px 1px 1px 1px);clip: rect(1px, 1px, 1px, 1px);height: 1px;margin: -1px;overflow: hidden;padding: 0;position: absolute;width: 1px;}#sk-container-id-1 div.sk-estimator {font-family: monospace;background-color: #f0f8ff;border: 1px dotted black;border-radius: 0.25em;box-sizing: border-box;margin-bottom: 0.5em;}#sk-container-id-1 div.sk-estimator:hover {background-color: #d4ebff;}#sk-container-id-1 div.sk-parallel-item::after {content: \"\";width: 100%;border-bottom: 1px solid gray;flex-grow: 1;}#sk-container-id-1 div.sk-label:hover label.sk-toggleable__label {background-color: #d4ebff;}#sk-container-id-1 div.sk-serial::before {content: \"\";position: absolute;border-left: 1px solid gray;box-sizing: border-box;top: 0;bottom: 0;left: 50%;z-index: 0;}#sk-container-id-1 div.sk-serial {display: flex;flex-direction: column;align-items: center;background-color: white;padding-right: 0.2em;padding-left: 0.2em;position: relative;}#sk-container-id-1 div.sk-item {position: relative;z-index: 1;}#sk-container-id-1 div.sk-parallel {display: flex;align-items: stretch;justify-content: center;background-color: white;position: relative;}#sk-container-id-1 div.sk-item::before, #sk-container-id-1 div.sk-parallel-item::before {content: \"\";position: absolute;border-left: 1px solid gray;box-sizing: border-box;top: 0;bottom: 0;left: 50%;z-index: -1;}#sk-container-id-1 div.sk-parallel-item {display: flex;flex-direction: column;z-index: 1;position: relative;background-color: white;}#sk-container-id-1 div.sk-parallel-item:first-child::after {align-self: flex-end;width: 50%;}#sk-container-id-1 div.sk-parallel-item:last-child::after {align-self: flex-start;width: 50%;}#sk-container-id-1 div.sk-parallel-item:only-child::after {width: 0;}#sk-container-id-1 div.sk-dashed-wrapped {border: 1px dashed gray;margin: 0 0.4em 0.5em 0.4em;box-sizing: border-box;padding-bottom: 0.4em;background-color: white;}#sk-container-id-1 div.sk-label label {font-family: monospace;font-weight: bold;display: inline-block;line-height: 1.2em;}#sk-container-id-1 div.sk-label-container {text-align: center;}#sk-container-id-1 div.sk-container {/* jupyter's `normalize.less` sets `[hidden] { display: none; }` but bootstrap.min.css set `[hidden] { display: none !important; }` so we also need the `!important` here to be able to override the default hidden behavior on the sphinx rendered scikit-learn.org. See: https://github.com/scikit-learn/scikit-learn/issues/21755 */display: inline-block !important;position: relative;}#sk-container-id-1 div.sk-text-repr-fallback {display: none;}</style><div id=\"sk-container-id-1\" class=\"sk-top-container\"><div class=\"sk-text-repr-fallback\"><pre>KNeighborsClassifier(n_neighbors=3)</pre><b>In a Jupyter environment, please rerun this cell to show the HTML representation or trust the notebook. <br />On GitHub, the HTML representation is unable to render, please try loading this page with nbviewer.org.</b></div><div class=\"sk-container\" hidden><div class=\"sk-item\"><div class=\"sk-estimator sk-toggleable\"><input class=\"sk-toggleable__control sk-hidden--visually\" id=\"sk-estimator-id-1\" type=\"checkbox\" checked><label for=\"sk-estimator-id-1\" class=\"sk-toggleable__label sk-toggleable__label-arrow\">KNeighborsClassifier</label><div class=\"sk-toggleable__content\"><pre>KNeighborsClassifier(n_neighbors=3)</pre></div></div></div></div></div>"
            ],
            "text/plain": [
              "KNeighborsClassifier(n_neighbors=3)"
            ]
          },
          "execution_count": 5,
          "metadata": {},
          "output_type": "execute_result"
        }
      ],
      "source": [
        "y = data[\"result\"]\n",
        "\n",
        "training_x, testing_x, training_y, testing_y = train_test_split(x, y, test_size=0.2, random_state=42)\n",
        "knn = KNeighborsClassifier(n_neighbors=3)\n",
        "knn.fit(training_x, training_y)\n"
      ]
    },
    {
      "cell_type": "code",
      "execution_count": 6,
      "metadata": {
        "id": "jkDsZiRjYvA7"
      },
      "outputs": [],
      "source": [
        "y_pred = knn.predict(testing_x)"
      ]
    },
    {
      "cell_type": "code",
      "execution_count": 7,
      "metadata": {
        "colab": {
          "base_uri": "https://localhost:8080/"
        },
        "id": "ZjRIOxxrY-R7",
        "outputId": "ad9b2511-dfc2-40d0-925a-84d3b64ed254"
      },
      "outputs": [
        {
          "name": "stdout",
          "output_type": "stream",
          "text": [
            "              precision    recall  f1-score   support\n",
            "\n",
            "           0       0.96      0.99      0.97     69080\n",
            "           1       0.95      0.85      0.90     20955\n",
            "\n",
            "    accuracy                           0.96     90035\n",
            "   macro avg       0.95      0.92      0.93     90035\n",
            "weighted avg       0.95      0.96      0.95     90035\n",
            "\n"
          ]
        }
      ],
      "source": [
        "from sklearn.metrics import accuracy_score\n",
        "from sklearn.metrics import classification_report\n",
        "report1 = classification_report(testing_y, y_pred)\n",
        "print(report1)"
      ]
    },
    {
      "cell_type": "code",
      "execution_count": null,
      "metadata": {
        "id": "rnS15H7nbHc6"
      },
      "outputs": [],
      "source": [
        "import urllib.parse\n",
        "import ipaddress\n",
        "\n",
        "feature_names = ['url_length', 'domain_length', 'has_https','parameter_count',\n",
        "     'letter_count', 'nb_count', 'non_alpha_count', 'ques', 'slashes',\n",
        "     'dashes', 'underscores', 'dots', 'has_php', 'has_html']\n",
        "\n",
        "def count_symbols(url: str) -> tuple:\n",
        "    letters = 0\n",
        "    numbers = 0\n",
        "    non_alpha_numeric = 0\n",
        "    for char in url:\n",
        "        if char.isalpha():\n",
        "            letters += 1\n",
        "        elif char.isdigit():\n",
        "            numbers += 1\n",
        "        else:\n",
        "            non_alpha_numeric += 1\n",
        "    return letters, numbers, non_alpha_numeric\n",
        "\n",
        "def count_parameters(url: urllib.parse.ParseResult):\n",
        "    parameters = url.query.split(\"&\")\n",
        "    return len(parameters)\n",
        "\n",
        "def count_chars(url: str) -> tuple:\n",
        "    ques = 0\n",
        "    slashes = 0\n",
        "    dashes = 0\n",
        "    underscores = 0\n",
        "    dots = 0\n",
        "    for char in url:\n",
        "        if char == \"?\":\n",
        "            ques += 1\n",
        "        elif char == \"/\":\n",
        "            slashes += 1\n",
        "        elif char == \".\":\n",
        "            dots += 1\n",
        "        elif char == \"-\":\n",
        "            dashes += 1\n",
        "        elif char == \"_\":\n",
        "            underscores += 1\n",
        "    return ques, slashes, dashes, underscores, dots\n",
        "\n",
        "def get_attributes(url: str):\n",
        "    parsed_url = urllib.parse.urlparse(url)\n",
        "    new_data = pd.DataFrame()\n",
        "    url_length = len(url)\n",
        "    domain_length = len(parsed_url.netloc)\n",
        "\n",
        "    letter_count, nb_count, non_alpha_count = count_symbols(url)\n",
        "    ques, slashes, dashes, underscores, dots = count_chars(url)\n",
        "\n",
        "    has_php = 1 if \"php\" in url else 0\n",
        "    has_html = 1 if \"html\" in url else 0\n",
        "    has_https = 1 if \"https\" in url else 0\n",
        "    parameter_count = count_parameters(parsed_url)\n",
        "\n",
        "    return [url_length, domain_length, has_https,parameter_count,\n",
        "            letter_count, nb_count, non_alpha_count, ques, slashes,\n",
        "            dashes, underscores, dots, has_php, has_html]\n",
        "\n"
      ]
    },
    {
      "cell_type": "code",
      "execution_count": null,
      "metadata": {
        "colab": {
          "base_uri": "https://localhost:8080/"
        },
        "id": "GULTvQ-rc78Z",
        "outputId": "3a8132f4-8cc3-406a-8058-99003bfa7ef4"
      },
      "outputs": [
        {
          "name": "stdout",
          "output_type": "stream",
          "text": [
            "   url_length  domain_length  parameter_count  letter_count  nb_count  \\\n",
            "0          23             14                1            17         0   \n",
            "\n",
            "   non_alpha_count  ques  slashes  dashes  underscores  dots  has_php  \\\n",
            "0                6     0        3       0            0     2        0   \n",
            "\n",
            "   has_html  \n",
            "0         0  \n"
          ]
        }
      ],
      "source": [
        "url = \"https://www.google.com/\"\n",
        "url_attrs = pd.DataFrame([get_attributes(url)], columns=feature_names)\n",
        "\n",
        "print(url_attrs)"
      ]
    },
    {
      "cell_type": "code",
      "execution_count": null,
      "metadata": {
        "colab": {
          "base_uri": "https://localhost:8080/"
        },
        "id": "DwN6BzpZdWX9",
        "outputId": "6a39cc18-1690-4cac-bdfe-dd8d92b33c09"
      },
      "outputs": [
        {
          "name": "stdout",
          "output_type": "stream",
          "text": [
            "prediction:  [0]\n"
          ]
        }
      ],
      "source": [
        "prediction = knn.predict(url_attrs)\n",
        "\n",
        "print(\"prediction: \", prediction)"
      ]
    },
    {
      "cell_type": "code",
      "execution_count": 11,
      "metadata": {
        "id": "sAssPEeies2-"
      },
      "outputs": [],
      "source": [
        "import pickle\n",
        "\n",
        "with open('sample_data/knn_model.sav', 'wb') as f:\n",
        "    pickle.dump(knn, f)"
      ]
    },
    {
      "cell_type": "markdown",
      "metadata": {
        "id": "IuBEHQVL_nnN"
      },
      "source": [
        "**Part 2: Random Forest Model**\n"
      ]
    },
    {
      "cell_type": "code",
      "execution_count": 8,
      "metadata": {
        "colab": {
          "base_uri": "https://localhost:8080/",
          "height": 74
        },
        "id": "e4GEOmJg_4WU",
        "outputId": "73438a51-a04e-4479-b021-8ed544876b5e"
      },
      "outputs": [
        {
          "data": {
            "text/html": [
              "<style>#sk-container-id-2 {color: black;background-color: white;}#sk-container-id-2 pre{padding: 0;}#sk-container-id-2 div.sk-toggleable {background-color: white;}#sk-container-id-2 label.sk-toggleable__label {cursor: pointer;display: block;width: 100%;margin-bottom: 0;padding: 0.3em;box-sizing: border-box;text-align: center;}#sk-container-id-2 label.sk-toggleable__label-arrow:before {content: \"▸\";float: left;margin-right: 0.25em;color: #696969;}#sk-container-id-2 label.sk-toggleable__label-arrow:hover:before {color: black;}#sk-container-id-2 div.sk-estimator:hover label.sk-toggleable__label-arrow:before {color: black;}#sk-container-id-2 div.sk-toggleable__content {max-height: 0;max-width: 0;overflow: hidden;text-align: left;background-color: #f0f8ff;}#sk-container-id-2 div.sk-toggleable__content pre {margin: 0.2em;color: black;border-radius: 0.25em;background-color: #f0f8ff;}#sk-container-id-2 input.sk-toggleable__control:checked~div.sk-toggleable__content {max-height: 200px;max-width: 100%;overflow: auto;}#sk-container-id-2 input.sk-toggleable__control:checked~label.sk-toggleable__label-arrow:before {content: \"▾\";}#sk-container-id-2 div.sk-estimator input.sk-toggleable__control:checked~label.sk-toggleable__label {background-color: #d4ebff;}#sk-container-id-2 div.sk-label input.sk-toggleable__control:checked~label.sk-toggleable__label {background-color: #d4ebff;}#sk-container-id-2 input.sk-hidden--visually {border: 0;clip: rect(1px 1px 1px 1px);clip: rect(1px, 1px, 1px, 1px);height: 1px;margin: -1px;overflow: hidden;padding: 0;position: absolute;width: 1px;}#sk-container-id-2 div.sk-estimator {font-family: monospace;background-color: #f0f8ff;border: 1px dotted black;border-radius: 0.25em;box-sizing: border-box;margin-bottom: 0.5em;}#sk-container-id-2 div.sk-estimator:hover {background-color: #d4ebff;}#sk-container-id-2 div.sk-parallel-item::after {content: \"\";width: 100%;border-bottom: 1px solid gray;flex-grow: 1;}#sk-container-id-2 div.sk-label:hover label.sk-toggleable__label {background-color: #d4ebff;}#sk-container-id-2 div.sk-serial::before {content: \"\";position: absolute;border-left: 1px solid gray;box-sizing: border-box;top: 0;bottom: 0;left: 50%;z-index: 0;}#sk-container-id-2 div.sk-serial {display: flex;flex-direction: column;align-items: center;background-color: white;padding-right: 0.2em;padding-left: 0.2em;position: relative;}#sk-container-id-2 div.sk-item {position: relative;z-index: 1;}#sk-container-id-2 div.sk-parallel {display: flex;align-items: stretch;justify-content: center;background-color: white;position: relative;}#sk-container-id-2 div.sk-item::before, #sk-container-id-2 div.sk-parallel-item::before {content: \"\";position: absolute;border-left: 1px solid gray;box-sizing: border-box;top: 0;bottom: 0;left: 50%;z-index: -1;}#sk-container-id-2 div.sk-parallel-item {display: flex;flex-direction: column;z-index: 1;position: relative;background-color: white;}#sk-container-id-2 div.sk-parallel-item:first-child::after {align-self: flex-end;width: 50%;}#sk-container-id-2 div.sk-parallel-item:last-child::after {align-self: flex-start;width: 50%;}#sk-container-id-2 div.sk-parallel-item:only-child::after {width: 0;}#sk-container-id-2 div.sk-dashed-wrapped {border: 1px dashed gray;margin: 0 0.4em 0.5em 0.4em;box-sizing: border-box;padding-bottom: 0.4em;background-color: white;}#sk-container-id-2 div.sk-label label {font-family: monospace;font-weight: bold;display: inline-block;line-height: 1.2em;}#sk-container-id-2 div.sk-label-container {text-align: center;}#sk-container-id-2 div.sk-container {/* jupyter's `normalize.less` sets `[hidden] { display: none; }` but bootstrap.min.css set `[hidden] { display: none !important; }` so we also need the `!important` here to be able to override the default hidden behavior on the sphinx rendered scikit-learn.org. See: https://github.com/scikit-learn/scikit-learn/issues/21755 */display: inline-block !important;position: relative;}#sk-container-id-2 div.sk-text-repr-fallback {display: none;}</style><div id=\"sk-container-id-2\" class=\"sk-top-container\"><div class=\"sk-text-repr-fallback\"><pre>RandomForestClassifier(max_depth=10, n_estimators=200, random_state=0)</pre><b>In a Jupyter environment, please rerun this cell to show the HTML representation or trust the notebook. <br />On GitHub, the HTML representation is unable to render, please try loading this page with nbviewer.org.</b></div><div class=\"sk-container\" hidden><div class=\"sk-item\"><div class=\"sk-estimator sk-toggleable\"><input class=\"sk-toggleable__control sk-hidden--visually\" id=\"sk-estimator-id-2\" type=\"checkbox\" checked><label for=\"sk-estimator-id-2\" class=\"sk-toggleable__label sk-toggleable__label-arrow\">RandomForestClassifier</label><div class=\"sk-toggleable__content\"><pre>RandomForestClassifier(max_depth=10, n_estimators=200, random_state=0)</pre></div></div></div></div></div>"
            ],
            "text/plain": [
              "RandomForestClassifier(max_depth=10, n_estimators=200, random_state=0)"
            ]
          },
          "execution_count": 8,
          "metadata": {},
          "output_type": "execute_result"
        }
      ],
      "source": [
        "from sklearn.ensemble import RandomForestClassifier\n",
        "\n",
        "classifier = RandomForestClassifier(n_estimators=200, max_depth=10, random_state=0)\n",
        "\n",
        "classifier.fit(training_x, training_y)"
      ]
    },
    {
      "cell_type": "code",
      "execution_count": 9,
      "metadata": {
        "colab": {
          "base_uri": "https://localhost:8080/"
        },
        "id": "lwMJAVxLAa8H",
        "outputId": "83b98d23-892f-42c5-d9bd-524b02effe44"
      },
      "outputs": [
        {
          "name": "stdout",
          "output_type": "stream",
          "text": [
            "              precision    recall  f1-score   support\n",
            "\n",
            "           0       0.99      1.00      0.99     69080\n",
            "           1       1.00      0.95      0.97     20955\n",
            "\n",
            "    accuracy                           0.99     90035\n",
            "   macro avg       0.99      0.98      0.98     90035\n",
            "weighted avg       0.99      0.99      0.99     90035\n",
            "\n"
          ]
        }
      ],
      "source": [
        "y_pred2 = classifier.predict(testing_x)\n",
        "report2 = classification_report(testing_y, y_pred2)\n",
        "print(report2)"
      ]
    },
    {
      "cell_type": "code",
      "execution_count": 10,
      "metadata": {
        "id": "n2RlUlKn5jIw"
      },
      "outputs": [],
      "source": [
        "import pickle\n",
        "\n",
        "with open('sample_data/rf_model.sav', 'wb') as f:\n",
        "  pickle.dump(classifier, f)"
      ]
    }
  ],
  "metadata": {
    "colab": {
      "provenance": []
    },
    "kernelspec": {
      "display_name": "Python 3",
      "name": "python3"
    },
    "language_info": {
      "name": "python",
      "version": "3.10.0"
    }
  },
  "nbformat": 4,
  "nbformat_minor": 0
}
